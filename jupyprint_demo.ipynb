{
 "cells": [
  {
   "cell_type": "code",
   "execution_count": 1,
   "id": "78c7b483",
   "metadata": {},
   "outputs": [
    {
     "data": {
      "text/markdown": [
       "# Jupyprint Demo"
      ],
      "text/plain": [
       "<IPython.core.display.Markdown object>"
      ]
     },
     "metadata": {},
     "output_type": "display_data"
    },
    {
     "data": {
      "text/markdown": [
       "Below are some ways of using jupyprint..."
      ],
      "text/plain": [
       "<IPython.core.display.Markdown object>"
      ]
     },
     "metadata": {},
     "output_type": "display_data"
    }
   ],
   "source": [
    "# either import jupytext as jp, then use jp.jupyprint() and jp.arraytex()\n",
    "# or use the following:\n",
    "from jupyprint import jupyprint, arraytex\n",
    "\n",
    "import numpy as np\n",
    "import pandas as pd\n",
    "\n",
    "# use jupyprint to add the title and intro!\n",
    "jupyprint(\"# Jupyprint Demo\")\n",
    "jupyprint(\"Below are some ways of using jupyprint...\")"
   ]
  },
  {
   "cell_type": "code",
   "execution_count": 2,
   "id": "818c5ef1",
   "metadata": {},
   "outputs": [
    {
     "data": {
      "text/markdown": [
       "Hello world!"
      ],
      "text/plain": [
       "<IPython.core.display.Markdown object>"
      ]
     },
     "metadata": {},
     "output_type": "display_data"
    }
   ],
   "source": [
    "# strings:\n",
    "jupyprint(\"Hello world!\")"
   ]
  },
  {
   "cell_type": "code",
   "execution_count": 3,
   "id": "c665d92a",
   "metadata": {},
   "outputs": [
    {
     "data": {
      "text/markdown": [
       "42"
      ],
      "text/plain": [
       "<IPython.core.display.Markdown object>"
      ]
     },
     "metadata": {},
     "output_type": "display_data"
    },
    {
     "data": {
      "text/markdown": [
       "3.14"
      ],
      "text/plain": [
       "<IPython.core.display.Markdown object>"
      ]
     },
     "metadata": {},
     "output_type": "display_data"
    },
    {
     "data": {
      "text/markdown": [
       "(5+3j)"
      ],
      "text/plain": [
       "<IPython.core.display.Markdown object>"
      ]
     },
     "metadata": {},
     "output_type": "display_data"
    }
   ],
   "source": [
    "# numbers:\n",
    "jupyprint(42)\n",
    "jupyprint(3.14)\n",
    "jupyprint(5 + 3j)  "
   ]
  },
  {
   "cell_type": "code",
   "execution_count": 4,
   "id": "6f3836e1",
   "metadata": {},
   "outputs": [
    {
     "data": {
      "text/markdown": [
       "$ \\Large \\sum{(y_i - \\hat{y})^2} $"
      ],
      "text/plain": [
       "<IPython.core.display.Markdown object>"
      ]
     },
     "metadata": {},
     "output_type": "display_data"
    }
   ],
   "source": [
    "# LaTex:\n",
    "jupyprint(\"$ \\Large \\sum{(y_i - \\hat{y})^2} $\")"
   ]
  },
  {
   "cell_type": "code",
   "execution_count": 5,
   "id": "be6410c8",
   "metadata": {},
   "outputs": [
    {
     "data": {
      "text/markdown": [
       "$\\begin{bmatrix}{} 1 & 2 & 4 \\end{bmatrix}$"
      ],
      "text/plain": [
       "<IPython.core.display.Markdown object>"
      ]
     },
     "metadata": {},
     "output_type": "display_data"
    }
   ],
   "source": [
    "# numpy.array (row vector):\n",
    "jupyprint(np.array([1, 2, 4]))"
   ]
  },
  {
   "cell_type": "code",
   "execution_count": 6,
   "id": "78b28a02",
   "metadata": {},
   "outputs": [
    {
     "data": {
      "text/markdown": [
       "$\\begin{bmatrix}{} 1 \\\\ 2 \\\\ 4 \\\\ \\end{bmatrix}$"
      ],
      "text/plain": [
       "<IPython.core.display.Markdown object>"
      ]
     },
     "metadata": {},
     "output_type": "display_data"
    }
   ],
   "source": [
    "# numpy.array (column vector):\n",
    "jupyprint(np.array([[1], [2], [4]]))"
   ]
  },
  {
   "cell_type": "code",
   "execution_count": 7,
   "id": "d32dc5f4",
   "metadata": {},
   "outputs": [
    {
     "data": {
      "text/markdown": [
       "$\\begin{bmatrix}{} \\text{1} & \\text{2} & \\text{4} \\\\ \\text{A} & \\text{B} & \\text{C} \\\\ \\end{bmatrix}$"
      ],
      "text/plain": [
       "<IPython.core.display.Markdown object>"
      ]
     },
     "metadata": {},
     "output_type": "display_data"
    }
   ],
   "source": [
    "# numpy.array (matrix):\n",
    "jupyprint(np.array([[1, 2, 4], ['A', 'B', 'C']]))"
   ]
  },
  {
   "cell_type": "code",
   "execution_count": 8,
   "id": "bc260a60",
   "metadata": {},
   "outputs": [
    {
     "data": {
      "text/markdown": [
       "$\\begin{bmatrix}{} 10 & \\text{True} & \\text{Hello} \\end{bmatrix}$"
      ],
      "text/plain": [
       "<IPython.core.display.Markdown object>"
      ]
     },
     "metadata": {},
     "output_type": "display_data"
    },
    {
     "data": {
      "text/markdown": [
       "$\\begin{bmatrix}{} \\text{True} & \\text{True} & \\text{10} & 42 & \\text{False} & \\text{Hello} \\end{bmatrix}$"
      ],
      "text/plain": [
       "<IPython.core.display.Markdown object>"
      ]
     },
     "metadata": {},
     "output_type": "display_data"
    }
   ],
   "source": [
    "# array with mixed elements\n",
    "jupyprint(np.array([10, True, \"Hello\"], dtype = object)) \n",
    "jupyprint(np.array(['True', 'True', '10', 42, False, 'Hello'], dtype=object))"
   ]
  },
  {
   "cell_type": "code",
   "execution_count": 9,
   "id": "2fdbea9c",
   "metadata": {},
   "outputs": [
    {
     "data": {
      "text/markdown": [
       "$\\begin{bmatrix}{} 10 & 100 & 200 \\\\ 8 & 9 & 77 \\\\ \\end{bmatrix} * \\begin{bmatrix}{} 1000 \\\\ -889 \\\\ 43 \\\\ \\end{bmatrix} = \\begin{bmatrix}{} -70300 \\\\ 3310 \\\\ \\end{bmatrix}$"
      ],
      "text/plain": [
       "<IPython.core.display.Markdown object>"
      ]
     },
     "metadata": {},
     "output_type": "display_data"
    }
   ],
   "source": [
    "# arrays chained with f-string\n",
    "x = np.array([[10, 100, 200], [8, 9, 77]])\n",
    "y = np.array([[1000], [-889], [43]])\n",
    "jupyprint(f\"${arraytex(x)} * {arraytex(y)} = {arraytex(np.dot(x, y))}$\")"
   ]
  },
  {
   "cell_type": "code",
   "execution_count": 10,
   "id": "8bb1314b",
   "metadata": {},
   "outputs": [
    {
     "data": {
      "text/markdown": [
       "$\\begin{bmatrix}{} 10 & 100 & 200 \\\\ 8 & 9 & 77 \\\\ \\end{bmatrix} * \\begin{bmatrix}{} \\text{True} \\\\ \\text{False} \\\\ \\text{True} \\\\ \\end{bmatrix} = \\begin{bmatrix}{} 210 \\\\ 85 \\\\ \\end{bmatrix}$"
      ],
      "text/plain": [
       "<IPython.core.display.Markdown object>"
      ]
     },
     "metadata": {},
     "output_type": "display_data"
    }
   ],
   "source": [
    "# arrays chained with f-string (with booleans)\n",
    "x = np.array([[10, 100, 200], [8, 9, 77]])\n",
    "y = np.array([[True], [False], [True]])\n",
    "jupyprint(f\"${arraytex(x)} * {arraytex(y)} = {arraytex(np.dot(x, y))}$\")"
   ]
  },
  {
   "cell_type": "code",
   "execution_count": 11,
   "id": "b6250189",
   "metadata": {},
   "outputs": [
    {
     "data": {
      "text/markdown": [
       "Hello, let us log this matrix: $\\begin{bmatrix}{} 10 & 100 & 200 \\\\ 8 & 9 & 77 \\\\ \\end{bmatrix}$. Here is\n",
       "           the logged version: $ln(\\begin{bmatrix}{} 10 & 100 & 200 \\\\ 8 & 9 & 77 \\\\ \\end{bmatrix}) = \\begin{bmatrix}{} 2.3 & 4.61 & 5.3 \\\\ 2.08 & 2.2 & 4.34 \\\\ \\end{bmatrix}$"
      ],
      "text/plain": [
       "<IPython.core.display.Markdown object>"
      ]
     },
     "metadata": {},
     "output_type": "display_data"
    },
    {
     "data": {
      "text/markdown": [
       "Here is some LaTeX $\\hat{y} = b_0 + b_1x_1$.It is chained with LaTeX printouts of some matrix multiplication with the numpy arrays above: $\\begin{bmatrix}{} 10 & 100 & 200 \\\\ 8 & 9 & 77 \\\\ \\end{bmatrix} * \\begin{bmatrix}{} \\text{True} \\\\ \\text{False} \\\\ \\text{True} \\\\ \\end{bmatrix} = \\begin{bmatrix}{} 210 \\\\ 85 \\\\ \\end{bmatrix}$"
      ],
      "text/plain": [
       "<IPython.core.display.Markdown object>"
      ]
     },
     "metadata": {},
     "output_type": "display_data"
    }
   ],
   "source": [
    "# arrays chained with f-string and non-LaTeX strings\n",
    "x = np.array([[10, 100, 200], [8, 9, 77]])\n",
    "jupyprint(f\"\"\"Hello, let us log this matrix: ${arraytex(x)}$. Here is\n",
    "           the logged version: $ln({arraytex(x)}) = {arraytex(np.log(x).round(2))}$\"\"\")\n",
    "jupyprint(\"Here is some LaTeX $\\hat{y} = b_0 + b_1x_1$.\" + f\"It is chained with LaTeX printouts of some matrix multiplication with the numpy arrays above: ${arraytex(x)} * {arraytex(y)} = {arraytex(np.dot(x, y))}$\")"
   ]
  },
  {
   "cell_type": "code",
   "execution_count": 12,
   "id": "16b83f7e",
   "metadata": {},
   "outputs": [
    {
     "data": {
      "text/markdown": [
       "# The Linear Model:"
      ],
      "text/plain": [
       "<IPython.core.display.Markdown object>"
      ]
     },
     "metadata": {},
     "output_type": "display_data"
    },
    {
     "data": {
      "text/markdown": [
       "$\\begin{bmatrix}{} \\text{$\\hat{y_1}$} \\\\ \\text{$\\hat{y_2}$} \\\\ \\text{$\\hat{y_3}$} \\\\ \\text{$\\hat{y_4}$} \\\\ \\text{$\\hat{y_5}$} \\\\ \\end{bmatrix} = \\begin{bmatrix}{} \\text{1} & \\text{$x_1$} & \\text{$x_2$} \\\\ \\text{1} & \\text{$x_1$} & \\text{$x_2$} \\\\ \\text{1} & \\text{$x_1$} & \\text{$x_2$} \\\\ \\text{1} & \\text{$x_1$} & \\text{$x_2$} \\\\ \\text{1} & \\text{$x_1$} & \\text{$x_2$} \\\\ \\end{bmatrix} * \\begin{bmatrix}{} \\text{$b_0$} \\\\ \\text{$b_1$} \\\\ \\text{$b_2$} \\\\ \\end{bmatrix}$"
      ],
      "text/plain": [
       "<IPython.core.display.Markdown object>"
      ]
     },
     "metadata": {},
     "output_type": "display_data"
    },
    {
     "data": {
      "text/markdown": [
       "### The linear model with our data and parameters (instead of symbols):"
      ],
      "text/plain": [
       "<IPython.core.display.Markdown object>"
      ]
     },
     "metadata": {},
     "output_type": "display_data"
    },
    {
     "data": {
      "text/markdown": [
       "$\\begin{bmatrix}{} 292.72 \\\\ 290.59 \\\\ 295.69 \\\\ 257.38 \\\\ 321.64 \\\\ \\end{bmatrix} = \\begin{bmatrix}{} 1.0 & 96.04 & 6.0 \\\\ 1.0 & 94.73 & 9.0 \\\\ 1.0 & 96.43 & 9.0 \\\\ 1.0 & 84.06 & 7.0 \\\\ 1.0 & 106.08 & 4.0 \\\\ \\end{bmatrix} * \\begin{bmatrix}{} 1.0 \\\\ 3.0 \\\\ 0.6 \\\\ \\end{bmatrix}$"
      ],
      "text/plain": [
       "<IPython.core.display.Markdown object>"
      ]
     },
     "metadata": {},
     "output_type": "display_data"
    }
   ],
   "source": [
    "# showing symbolic representations of models alongside versions with \"live\" variables\n",
    "\n",
    "# linear regression model with symbols\n",
    "design_matrix = np.array([np.repeat(1, 5), np.repeat(\"$x_1$\", 5), np.repeat(\"$x_2$\", 5)]).T\n",
    "\n",
    "beta_vector = np.array(['$b_'+ str(i) + '$' for i in np.arange(0, 3)]).reshape(3, 1)\n",
    "\n",
    "y_vector = np.array(['$\\hat{y_'+ str(i) + '}$' for i in np.arange(1, 6)]).reshape(5, 1)\n",
    "\n",
    "jupyprint(\"# The Linear Model:\")\n",
    "jupyprint(f\"${arraytex(y_vector)} = {arraytex(design_matrix)} * {arraytex(beta_vector)}$\")\n",
    "\n",
    "# linear regression model with \"live\" variables\n",
    "jupyprint(\"### The linear model with our data and parameters (instead of symbols):\")\n",
    "design_matrix = np.array([np.repeat(1, 5),\n",
    "                          np.random.normal(100, 10, 5).round(2),\n",
    "                          np.random.poisson(5, 5)]).T\n",
    "\n",
    "beta_vector = np.array([1, 3, 0.6]).reshape(3, 1)\n",
    "\n",
    "y_hat_vector = np.dot(design_matrix, beta_vector).round(2)\n",
    "\n",
    "jupyprint(f\"${arraytex(y_hat_vector)} = {arraytex(design_matrix)} * {arraytex(beta_vector)}$\")"
   ]
  },
  {
   "cell_type": "code",
   "execution_count": 13,
   "id": "b821ebb1",
   "metadata": {},
   "outputs": [
    {
     "data": {
      "text/html": [
       "<div>\n",
       "<style scoped>\n",
       "    .dataframe tbody tr th:only-of-type {\n",
       "        vertical-align: middle;\n",
       "    }\n",
       "\n",
       "    .dataframe tbody tr th {\n",
       "        vertical-align: top;\n",
       "    }\n",
       "\n",
       "    .dataframe thead th {\n",
       "        text-align: right;\n",
       "    }\n",
       "</style>\n",
       "<table border=\"1\" class=\"dataframe\">\n",
       "  <thead>\n",
       "    <tr style=\"text-align: right;\">\n",
       "      <th></th>\n",
       "      <th>A</th>\n",
       "      <th>B</th>\n",
       "    </tr>\n",
       "  </thead>\n",
       "  <tbody>\n",
       "    <tr>\n",
       "      <th>0</th>\n",
       "      <td>A</td>\n",
       "      <td>B</td>\n",
       "    </tr>\n",
       "    <tr>\n",
       "      <th>1</th>\n",
       "      <td>A</td>\n",
       "      <td>B</td>\n",
       "    </tr>\n",
       "    <tr>\n",
       "      <th>2</th>\n",
       "      <td>A</td>\n",
       "      <td>B</td>\n",
       "    </tr>\n",
       "    <tr>\n",
       "      <th>3</th>\n",
       "      <td>A</td>\n",
       "      <td>B</td>\n",
       "    </tr>\n",
       "    <tr>\n",
       "      <th>4</th>\n",
       "      <td>A</td>\n",
       "      <td>B</td>\n",
       "    </tr>\n",
       "    <tr>\n",
       "      <th>5</th>\n",
       "      <td>A</td>\n",
       "      <td>B</td>\n",
       "    </tr>\n",
       "    <tr>\n",
       "      <th>6</th>\n",
       "      <td>A</td>\n",
       "      <td>B</td>\n",
       "    </tr>\n",
       "    <tr>\n",
       "      <th>7</th>\n",
       "      <td>A</td>\n",
       "      <td>B</td>\n",
       "    </tr>\n",
       "    <tr>\n",
       "      <th>8</th>\n",
       "      <td>A</td>\n",
       "      <td>B</td>\n",
       "    </tr>\n",
       "    <tr>\n",
       "      <th>9</th>\n",
       "      <td>A</td>\n",
       "      <td>B</td>\n",
       "    </tr>\n",
       "  </tbody>\n",
       "</table>\n",
       "</div>"
      ],
      "text/plain": [
       "   A  B\n",
       "0  A  B\n",
       "1  A  B\n",
       "2  A  B\n",
       "3  A  B\n",
       "4  A  B\n",
       "5  A  B\n",
       "6  A  B\n",
       "7  A  B\n",
       "8  A  B\n",
       "9  A  B"
      ]
     },
     "metadata": {},
     "output_type": "display_data"
    }
   ],
   "source": [
    "# pandas.DataFrame:\n",
    "jupyprint(pd.DataFrame({'A': np.repeat('A', 10),\n",
    "                           'B': np.repeat('B', 10)}))"
   ]
  }
 ],
 "metadata": {
  "jupytext": {
   "formats": "Rmd,ipynb"
  },
  "kernelspec": {
   "display_name": "Python 3 (ipykernel)",
   "language": "python",
   "name": "python3"
  },
  "language_info": {
   "codemirror_mode": {
    "name": "ipython",
    "version": 3
   },
   "file_extension": ".py",
   "mimetype": "text/x-python",
   "name": "python",
   "nbconvert_exporter": "python",
   "pygments_lexer": "ipython3",
   "version": "3.11.3"
  }
 },
 "nbformat": 4,
 "nbformat_minor": 5
}
